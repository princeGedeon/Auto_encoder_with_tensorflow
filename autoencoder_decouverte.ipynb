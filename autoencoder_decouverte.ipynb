{
 "cells": [
  {
   "cell_type": "code",
   "execution_count": 1,
   "id": "c6d05cf1",
   "metadata": {},
   "outputs": [],
   "source": [
    "import numpy as np\n",
    "import pandas as pd\n",
    "import seaborn as sns\n",
    "import matplotlib.pyplot as plt"
   ]
  },
  {
   "cell_type": "code",
   "execution_count": 2,
   "id": "645287ec",
   "metadata": {},
   "outputs": [],
   "source": [
    "from sklearn.datasets import make_blobs"
   ]
  },
  {
   "cell_type": "code",
   "execution_count": 3,
   "id": "f316afec",
   "metadata": {},
   "outputs": [],
   "source": [
    "data=make_blobs(n_features=2,n_samples=300,centers=2,cluster_std=1.0)"
   ]
  },
  {
   "cell_type": "code",
   "execution_count": 5,
   "id": "941c585b",
   "metadata": {},
   "outputs": [],
   "source": [
    "X,y=data"
   ]
  },
  {
   "cell_type": "code",
   "execution_count": 7,
   "id": "da5c7338",
   "metadata": {},
   "outputs": [
    {
     "data": {
      "text/plain": [
       "array([[ -6.56691923,   7.7797577 ],\n",
       "       [ -5.19404422,   6.75458453],\n",
       "       [  1.23265568,  -9.42980883],\n",
       "       [ -2.49618917,   7.36892139],\n",
       "       [ -6.10480663,   7.7775224 ],\n",
       "       [ -5.59315881,  10.93577085],\n",
       "       [  3.20441729,  -9.39821908],\n",
       "       [ -5.49292974,   8.29044419],\n",
       "       [ -6.62042067,   8.80242087],\n",
       "       [ -4.5823466 ,   8.28969405],\n",
       "       [ -5.40038686,   8.61295054],\n",
       "       [ -5.25681332,   7.42512798],\n",
       "       [ -7.42748705,   8.43250121],\n",
       "       [ -4.38099409,   7.81158399],\n",
       "       [ -6.28632091,   7.49514674],\n",
       "       [  3.30741164, -10.65146553],\n",
       "       [  3.21105289,  -9.40424464],\n",
       "       [ -6.10026798,   7.38021819],\n",
       "       [ -6.84261835,   7.28493843],\n",
       "       [ -5.56896942,   7.23429557],\n",
       "       [  3.2419847 ,  -8.04504514],\n",
       "       [  1.61359939,  -9.84001033],\n",
       "       [  2.82479392, -10.79331843],\n",
       "       [  3.07910738,  -8.41265506],\n",
       "       [ -4.70272891,   9.21618352],\n",
       "       [  4.58551227,  -9.62742281],\n",
       "       [  4.64130509,  -9.42984244],\n",
       "       [  4.05089034,  -9.92132325],\n",
       "       [ -0.09696152,  -9.89769095],\n",
       "       [ -3.5119189 ,   6.18973604],\n",
       "       [ -7.12963506,   8.33898048],\n",
       "       [ -6.39332899,   7.09976994],\n",
       "       [ -4.59959279,   7.8360746 ],\n",
       "       [ -5.72713565,   8.77973388],\n",
       "       [ -4.98348439,   8.33196464],\n",
       "       [ -4.41115989,   6.6426555 ],\n",
       "       [  3.60375047,  -9.41449043],\n",
       "       [  1.99462513,  -9.12194386],\n",
       "       [  1.65061041,  -8.93382956],\n",
       "       [  3.04425956, -10.05905963],\n",
       "       [ -2.6761936 ,   8.43090399],\n",
       "       [  0.30307027,  -8.12727875],\n",
       "       [  4.67280589,  -9.44355292],\n",
       "       [ -5.87256574,   5.87929578],\n",
       "       [  2.34674863,  -9.74687019],\n",
       "       [ -6.2545714 ,   7.02781998],\n",
       "       [  1.57474064, -10.12413941],\n",
       "       [  2.99431868,  -8.40576667],\n",
       "       [  2.90390314,  -9.55172198],\n",
       "       [  2.88565438,  -9.41475434],\n",
       "       [  3.28296429,  -9.23418666],\n",
       "       [ -4.47231375,   6.69407741],\n",
       "       [  0.14676489,  -9.07967262],\n",
       "       [  1.16994906,  -9.55417234],\n",
       "       [ -5.74730177,   8.64941006],\n",
       "       [  2.74930421,  -9.95746799],\n",
       "       [  3.64973622,  -8.82765505],\n",
       "       [  3.6883996 ,  -8.61296934],\n",
       "       [  2.60095052,  -9.23667553],\n",
       "       [ -6.1010078 ,   7.19104311],\n",
       "       [ -6.32575601,   7.01298144],\n",
       "       [ -5.94003424,   6.915935  ],\n",
       "       [ -4.14093097,   7.89455762],\n",
       "       [ -5.24220885,   7.99334577],\n",
       "       [ -5.91523044,   8.031414  ],\n",
       "       [  1.01680868,  -9.87357708],\n",
       "       [ -5.57756352,   9.05787453],\n",
       "       [  4.14011648, -10.42423241],\n",
       "       [ -5.82139412,   6.57170884],\n",
       "       [ -7.50041415,   7.36336953],\n",
       "       [ -4.704865  ,   6.96894477],\n",
       "       [  1.9602537 , -11.22064959],\n",
       "       [ -6.17788765,   8.26386364],\n",
       "       [ -4.38363172,   8.11051546],\n",
       "       [ -4.34917703,   7.59744041],\n",
       "       [ -5.11847926,   7.72519445],\n",
       "       [  3.38959213,  -8.97139233],\n",
       "       [ -7.03656593,   8.73514828],\n",
       "       [  2.83625211,  -8.34592945],\n",
       "       [  2.40762063,  -9.3597409 ],\n",
       "       [ -5.21074836,   6.12476125],\n",
       "       [  2.21263126,  -9.23368789],\n",
       "       [ -5.89482719,   6.5308331 ],\n",
       "       [ -4.73520449,   7.34604157],\n",
       "       [  1.57910594,  -8.8349789 ],\n",
       "       [  2.61047561,  -9.03360024],\n",
       "       [  4.17085735, -10.21435641],\n",
       "       [ -6.94962162,   8.17524739],\n",
       "       [  4.52897904,  -7.83372087],\n",
       "       [ -5.95668364,   7.63741642],\n",
       "       [  2.66665631, -10.49355165],\n",
       "       [ -5.24638381,   6.99905538],\n",
       "       [ -5.87123405,   9.73379002],\n",
       "       [  2.02890451, -10.34707719],\n",
       "       [ -5.16643874,   6.46897109],\n",
       "       [  3.06135047,  -9.2102573 ],\n",
       "       [ -5.86766702,   7.41652248],\n",
       "       [  2.08266406,  -9.06025267],\n",
       "       [  3.09110101,  -8.60970933],\n",
       "       [  2.5705264 , -10.89232786],\n",
       "       [  2.80310603, -10.23109909],\n",
       "       [ -3.66171571,   5.63071078],\n",
       "       [ -5.78086652,   9.48578192],\n",
       "       [  3.01201206,  -8.18306244],\n",
       "       [  2.59618635,  -9.47917946],\n",
       "       [  3.56119951,  -7.27173246],\n",
       "       [ -5.33987832,   7.30006027],\n",
       "       [ -6.04599508,   8.63523591],\n",
       "       [  2.27145339,  -9.90384339],\n",
       "       [ -7.17809972,   7.73791807],\n",
       "       [ -5.62462516,   7.85961871],\n",
       "       [ -5.20556419,   6.934079  ],\n",
       "       [ -4.80905894,   7.7550876 ],\n",
       "       [  0.60404383, -11.33746196],\n",
       "       [  1.46030397, -10.96773383],\n",
       "       [  5.04316528,  -8.56301044],\n",
       "       [  2.65837578,  -9.25569211],\n",
       "       [  1.88480199,  -9.78949173],\n",
       "       [  3.54110204,  -8.78005554],\n",
       "       [  4.28952963,  -8.89775872],\n",
       "       [  2.04774098, -11.73239946],\n",
       "       [ -4.24833625,   5.65643292],\n",
       "       [  2.69745241, -10.25796706],\n",
       "       [  1.17921239,  -8.25751946],\n",
       "       [ -4.33754816,   8.56136376],\n",
       "       [  1.99821813,  -8.22493355],\n",
       "       [ -5.97842137,   7.31227573],\n",
       "       [ -5.90470717,   6.86655119],\n",
       "       [  1.68258776,  -9.18828589],\n",
       "       [  3.29440745,  -7.02056516],\n",
       "       [  2.17709875,  -9.74998066],\n",
       "       [ -5.78322107,   7.972015  ],\n",
       "       [  3.5306531 , -10.43146303],\n",
       "       [  4.68711334,  -8.39311303],\n",
       "       [ -4.73595441,   6.82319979],\n",
       "       [ -6.61101725,   6.6197002 ],\n",
       "       [  0.88035151,  -9.60242938],\n",
       "       [  3.07760466, -10.55416093],\n",
       "       [  2.24182832,  -9.13800317],\n",
       "       [ -5.9494087 ,   9.41120429],\n",
       "       [  2.23075664,  -8.8580923 ],\n",
       "       [ -4.48385381,   7.63633598],\n",
       "       [ -5.0877987 ,   6.99170776],\n",
       "       [  3.22488637,  -9.67400011],\n",
       "       [ -3.97921132,   7.68760372],\n",
       "       [  2.62657729,  -9.06044892],\n",
       "       [  2.38632124,  -9.13054256],\n",
       "       [ -5.58522452,   8.09171944],\n",
       "       [  2.52342698,  -7.92305101],\n",
       "       [ -5.19038164,   7.833828  ],\n",
       "       [  0.70668744,  -9.16065721],\n",
       "       [  2.04768742,  -9.92079668],\n",
       "       [ -5.49960186,   7.41025847],\n",
       "       [  1.08503106,  -7.99841829],\n",
       "       [ -6.62805237,   9.18338042],\n",
       "       [ -5.34123065,   7.95355808],\n",
       "       [  3.66867225,  -9.6304135 ],\n",
       "       [  2.78751758, -10.27884849],\n",
       "       [  3.07917382,  -9.99730992],\n",
       "       [ -5.5601    ,   8.21430343],\n",
       "       [  3.36222312,  -8.64136919],\n",
       "       [  2.14099353, -10.67261942],\n",
       "       [ -6.10729925,   6.84435363],\n",
       "       [ -5.46456268,   7.41769594],\n",
       "       [ -6.60146227,   7.69584512],\n",
       "       [  2.22634482,  -9.67539175],\n",
       "       [  4.71475946,  -9.71254387],\n",
       "       [ -5.86996896,   9.66931307],\n",
       "       [ -6.27667752,   8.55938857],\n",
       "       [ -5.7812557 ,   8.98783759],\n",
       "       [ -4.82455094,   6.24184141],\n",
       "       [ -6.49220979,   6.40509503],\n",
       "       [ -5.49050686,   6.13446092],\n",
       "       [  2.67028492,  -9.71876038],\n",
       "       [  3.35564707,  -9.27697235],\n",
       "       [  0.75599095, -10.02421981],\n",
       "       [  2.91019067,  -8.77227523],\n",
       "       [  3.82255931,  -8.81209544],\n",
       "       [ -4.5106662 ,   6.17486066],\n",
       "       [  3.38534951,  -8.94347873],\n",
       "       [ -4.43004904,   7.98811716],\n",
       "       [ -5.80152668,   8.76816324],\n",
       "       [  2.82789868,  -9.21981022],\n",
       "       [ -4.23684746,   8.37675055],\n",
       "       [  3.0422741 ,  -9.35843854],\n",
       "       [ -6.31713202,   8.05795032],\n",
       "       [  2.89553065,  -9.18349862],\n",
       "       [  2.50172478,  -8.98386551],\n",
       "       [ -6.05864888,   8.18925931],\n",
       "       [  2.17960965,  -9.55427538],\n",
       "       [ -4.70120392,   6.54912402],\n",
       "       [  3.97523525, -10.21660277],\n",
       "       [  1.24878012,  -8.35967908],\n",
       "       [  3.78980117,  -7.33700833],\n",
       "       [  3.87120687, -10.05715104],\n",
       "       [ -5.52001561,   6.66139411],\n",
       "       [ -5.65607122,   7.32816403],\n",
       "       [ -5.10844013,   7.70639936],\n",
       "       [  3.82949528, -10.63881223],\n",
       "       [ -3.69452895,   8.70448525],\n",
       "       [ -5.76875698,   8.40881562],\n",
       "       [ -4.7991715 ,   6.92344927],\n",
       "       [  2.20879487,  -9.32479853],\n",
       "       [ -6.42145052,   8.12163978],\n",
       "       [  2.81155054,  -8.21158872],\n",
       "       [  0.71163358, -10.04774571],\n",
       "       [  1.81171747, -10.14379586],\n",
       "       [  2.89938805,  -8.13797464],\n",
       "       [  4.46899232,  -7.69048741],\n",
       "       [ -6.53920031,   8.30720314],\n",
       "       [  2.00927947,  -9.4626889 ],\n",
       "       [  1.16193763,  -7.89325991],\n",
       "       [ -6.44722858,   7.5452054 ],\n",
       "       [ -5.30374691,   7.70321824],\n",
       "       [ -4.12750056,   6.58969016],\n",
       "       [ -8.12562153,   8.05483845],\n",
       "       [  3.20038409,  -8.47550898],\n",
       "       [ -4.25254365,   7.63952858],\n",
       "       [ -6.2204782 ,   8.72514335],\n",
       "       [ -6.17655534,   7.23538137],\n",
       "       [  2.74834872,  -9.65183776],\n",
       "       [  2.78655926,  -9.86299297],\n",
       "       [ -5.99892569,   8.36879312],\n",
       "       [ -5.6932867 ,   7.35099064],\n",
       "       [  1.67361858, -11.75927676],\n",
       "       [ -5.40837766,   8.16795172],\n",
       "       [ -4.56283068,   7.35464296],\n",
       "       [  1.95002185, -10.61753304],\n",
       "       [  3.02233456,  -9.79441685],\n",
       "       [  2.96796245,  -8.16404864],\n",
       "       [  3.01230523,  -9.74377323],\n",
       "       [  3.78898564,  -9.01688084],\n",
       "       [  2.83228921, -11.17216537],\n",
       "       [ -6.1759233 ,   7.94536896],\n",
       "       [ -6.71450074,   8.45020597],\n",
       "       [ -4.53066843,   8.3345407 ],\n",
       "       [ -4.77833632,   7.99218378],\n",
       "       [  3.63411977, -10.11409705],\n",
       "       [ -5.23687235,   7.9548903 ],\n",
       "       [  2.1075861 , -10.52744108],\n",
       "       [ -7.19749274,   9.12708573],\n",
       "       [ -7.51143749,   9.3730017 ],\n",
       "       [  1.25925394,  -8.9990052 ],\n",
       "       [ -6.75086043,   7.83248426],\n",
       "       [  3.44408591,  -7.5936782 ],\n",
       "       [  2.4195047 , -10.49775549],\n",
       "       [ -5.72135793,   6.48570359],\n",
       "       [  2.44992138,  -9.07786016],\n",
       "       [  1.3824189 ,  -8.74688759],\n",
       "       [  2.96701068,  -9.10650494],\n",
       "       [ -4.58771636,   7.83292448],\n",
       "       [ -6.39357243,   8.75015011],\n",
       "       [ -6.02446296,   7.74469108],\n",
       "       [  3.40340257,  -8.97020817],\n",
       "       [  3.05500058,  -9.80204025],\n",
       "       [ -5.85734545,   8.52925955],\n",
       "       [  4.46242584,  -9.16946119],\n",
       "       [  2.29146779,  -9.68719691],\n",
       "       [  0.83049796,  -9.66075681],\n",
       "       [ -5.85048409,   6.93328062],\n",
       "       [ -6.48425685,   7.90741424],\n",
       "       [ -6.55048014,   6.73855548],\n",
       "       [  1.72246855,  -9.1693052 ],\n",
       "       [ -5.31316242,   7.8216402 ],\n",
       "       [  2.3827945 ,  -9.17808099],\n",
       "       [ -4.32690859,   7.50171057],\n",
       "       [  3.39291402,  -9.62386671],\n",
       "       [ -6.00002564,   7.29566442],\n",
       "       [  4.70921769,  -7.95110692],\n",
       "       [  2.20982269,  -7.92411878],\n",
       "       [ -4.36087219,   6.08292915],\n",
       "       [ -6.89266997,   5.64684978],\n",
       "       [ -6.56239779,   8.34282651],\n",
       "       [  3.65841826,  -9.00882461],\n",
       "       [ -6.69228542,   9.98998   ],\n",
       "       [ -4.99500797,   7.65648437],\n",
       "       [  3.34314549,  -8.30297493],\n",
       "       [  2.27820962,  -7.88922603],\n",
       "       [ -6.15223996,   8.60822043],\n",
       "       [ -4.21899691,   6.65031428],\n",
       "       [  1.73685772,  -9.36413483],\n",
       "       [  3.64145444,  -9.75381367],\n",
       "       [ -4.81908854,   7.35458905],\n",
       "       [ -5.71285064,   8.35553758],\n",
       "       [ -0.02615065,  -9.71359131],\n",
       "       [ -5.12289291,   8.75558628],\n",
       "       [ -5.87398873,   8.06380534],\n",
       "       [ -5.69573978,   9.59414456],\n",
       "       [ -5.15202977,   8.50003023],\n",
       "       [  4.05295384,  -9.04356945],\n",
       "       [ -5.8294803 ,   7.24051378],\n",
       "       [ -5.56263451,   8.10083053],\n",
       "       [  2.43452085, -10.39298529],\n",
       "       [ -6.62243994,   7.60967231],\n",
       "       [ -4.95088565,   8.76663242],\n",
       "       [  2.38243428,  -8.75735974],\n",
       "       [  2.15518524,  -9.44214387],\n",
       "       [  2.8750352 ,  -8.40982574],\n",
       "       [ -8.03352566,   7.95001353],\n",
       "       [  2.89982488,  -9.48301279]])"
      ]
     },
     "execution_count": 7,
     "metadata": {},
     "output_type": "execute_result"
    }
   ],
   "source": [
    "X\n"
   ]
  },
  {
   "cell_type": "code",
   "execution_count": 8,
   "id": "c5ece055",
   "metadata": {},
   "outputs": [
    {
     "data": {
      "text/plain": [
       "array([0, 0, 1, 0, 0, 0, 1, 0, 0, 0, 0, 0, 0, 0, 0, 1, 1, 0, 0, 0, 1, 1,\n",
       "       1, 1, 0, 1, 1, 1, 1, 0, 0, 0, 0, 0, 0, 0, 1, 1, 1, 1, 0, 1, 1, 0,\n",
       "       1, 0, 1, 1, 1, 1, 1, 0, 1, 1, 0, 1, 1, 1, 1, 0, 0, 0, 0, 0, 0, 1,\n",
       "       0, 1, 0, 0, 0, 1, 0, 0, 0, 0, 1, 0, 1, 1, 0, 1, 0, 0, 1, 1, 1, 0,\n",
       "       1, 0, 1, 0, 0, 1, 0, 1, 0, 1, 1, 1, 1, 0, 0, 1, 1, 1, 0, 0, 1, 0,\n",
       "       0, 0, 0, 1, 1, 1, 1, 1, 1, 1, 1, 0, 1, 1, 0, 1, 0, 0, 1, 1, 1, 0,\n",
       "       1, 1, 0, 0, 1, 1, 1, 0, 1, 0, 0, 1, 0, 1, 1, 0, 1, 0, 1, 1, 0, 1,\n",
       "       0, 0, 1, 1, 1, 0, 1, 1, 0, 0, 0, 1, 1, 0, 0, 0, 0, 0, 0, 1, 1, 1,\n",
       "       1, 1, 0, 1, 0, 0, 1, 0, 1, 0, 1, 1, 0, 1, 0, 1, 1, 1, 1, 0, 0, 0,\n",
       "       1, 0, 0, 0, 1, 0, 1, 1, 1, 1, 1, 0, 1, 1, 0, 0, 0, 0, 1, 0, 0, 0,\n",
       "       1, 1, 0, 0, 1, 0, 0, 1, 1, 1, 1, 1, 1, 0, 0, 0, 0, 1, 0, 1, 0, 0,\n",
       "       1, 0, 1, 1, 0, 1, 1, 1, 0, 0, 0, 1, 1, 0, 1, 1, 1, 0, 0, 0, 1, 0,\n",
       "       1, 0, 1, 0, 1, 1, 0, 0, 0, 1, 0, 0, 1, 1, 0, 0, 1, 1, 0, 0, 1, 0,\n",
       "       0, 0, 0, 1, 0, 0, 1, 0, 0, 1, 1, 1, 0, 1])"
      ]
     },
     "execution_count": 8,
     "metadata": {},
     "output_type": "execute_result"
    }
   ],
   "source": [
    "y"
   ]
  },
  {
   "cell_type": "code",
   "execution_count": 9,
   "id": "eb48b0c7",
   "metadata": {},
   "outputs": [],
   "source": [
    "np.random.seed(seed=101)\n",
    "z_noise=np.random.normal(size=len(X))\n",
    "z_noise=pd.Series(z_noise)"
   ]
  },
  {
   "cell_type": "code",
   "execution_count": 10,
   "id": "34f02ad7",
   "metadata": {},
   "outputs": [
    {
     "data": {
      "text/plain": [
       "0      2.706850\n",
       "1      0.628133\n",
       "2      0.907969\n",
       "3      0.503826\n",
       "4      0.651118\n",
       "         ...   \n",
       "295    1.523750\n",
       "296    1.290230\n",
       "297   -1.478319\n",
       "298    0.214234\n",
       "299   -0.240510\n",
       "Length: 300, dtype: float64"
      ]
     },
     "execution_count": 10,
     "metadata": {},
     "output_type": "execute_result"
    }
   ],
   "source": [
    "z_noise"
   ]
  },
  {
   "cell_type": "code",
   "execution_count": 12,
   "id": "efcb5593",
   "metadata": {},
   "outputs": [],
   "source": [
    "feat=pd.DataFrame(X)"
   ]
  },
  {
   "cell_type": "code",
   "execution_count": 14,
   "id": "c9302b24",
   "metadata": {},
   "outputs": [],
   "source": [
    "feat=pd.concat([feat,z_noise],axis=1)"
   ]
  },
  {
   "cell_type": "code",
   "execution_count": 16,
   "id": "7bfa7ce3",
   "metadata": {},
   "outputs": [],
   "source": [
    "feat.columns=['X1',\"X2\",\"X3\"]"
   ]
  },
  {
   "cell_type": "code",
   "execution_count": 17,
   "id": "c474b157",
   "metadata": {},
   "outputs": [
    {
     "data": {
      "text/html": [
       "<div>\n",
       "<style scoped>\n",
       "    .dataframe tbody tr th:only-of-type {\n",
       "        vertical-align: middle;\n",
       "    }\n",
       "\n",
       "    .dataframe tbody tr th {\n",
       "        vertical-align: top;\n",
       "    }\n",
       "\n",
       "    .dataframe thead th {\n",
       "        text-align: right;\n",
       "    }\n",
       "</style>\n",
       "<table border=\"1\" class=\"dataframe\">\n",
       "  <thead>\n",
       "    <tr style=\"text-align: right;\">\n",
       "      <th></th>\n",
       "      <th>X1</th>\n",
       "      <th>X2</th>\n",
       "      <th>X3</th>\n",
       "    </tr>\n",
       "  </thead>\n",
       "  <tbody>\n",
       "    <tr>\n",
       "      <th>0</th>\n",
       "      <td>-6.566919</td>\n",
       "      <td>7.779758</td>\n",
       "      <td>2.706850</td>\n",
       "    </tr>\n",
       "    <tr>\n",
       "      <th>1</th>\n",
       "      <td>-5.194044</td>\n",
       "      <td>6.754585</td>\n",
       "      <td>0.628133</td>\n",
       "    </tr>\n",
       "    <tr>\n",
       "      <th>2</th>\n",
       "      <td>1.232656</td>\n",
       "      <td>-9.429809</td>\n",
       "      <td>0.907969</td>\n",
       "    </tr>\n",
       "    <tr>\n",
       "      <th>3</th>\n",
       "      <td>-2.496189</td>\n",
       "      <td>7.368921</td>\n",
       "      <td>0.503826</td>\n",
       "    </tr>\n",
       "    <tr>\n",
       "      <th>4</th>\n",
       "      <td>-6.104807</td>\n",
       "      <td>7.777522</td>\n",
       "      <td>0.651118</td>\n",
       "    </tr>\n",
       "  </tbody>\n",
       "</table>\n",
       "</div>"
      ],
      "text/plain": [
       "         X1        X2        X3\n",
       "0 -6.566919  7.779758  2.706850\n",
       "1 -5.194044  6.754585  0.628133\n",
       "2  1.232656 -9.429809  0.907969\n",
       "3 -2.496189  7.368921  0.503826\n",
       "4 -6.104807  7.777522  0.651118"
      ]
     },
     "execution_count": 17,
     "metadata": {},
     "output_type": "execute_result"
    }
   ],
   "source": [
    "feat.head()"
   ]
  },
  {
   "cell_type": "code",
   "execution_count": 19,
   "id": "2934947e",
   "metadata": {},
   "outputs": [
    {
     "data": {
      "text/plain": [
       "<matplotlib.collections.PathCollection at 0x2aa776f9550>"
      ]
     },
     "execution_count": 19,
     "metadata": {},
     "output_type": "execute_result"
    },
    {
     "data": {
      "image/png": "[encoded data removed]",
      "text/plain": [
       "<Figure size 432x288 with 1 Axes>"
      ]
     },
     "metadata": {
      "needs_background": "light"
     },
     "output_type": "display_data"
    }
   ],
   "source": [
    "plt.scatter(feat[\"X1\"],feat[\"X2\"],c=y)"
   ]
  },
  {
   "cell_type": "code",
   "execution_count": 20,
   "id": "56047bbd",
   "metadata": {},
   "outputs": [],
   "source": [
    "from mpl_toolkits.mplot3d import Axes3D"
   ]
  },
  {
   "cell_type": "code",
   "execution_count": 21,
   "id": "ee996311",
   "metadata": {},
   "outputs": [
    {
     "data": {
      "text/plain": [
       "<mpl_toolkits.mplot3d.art3d.Path3DCollection at 0x2aa7a362550>"
      ]
     },
     "execution_count": 21,
     "metadata": {},
     "output_type": "execute_result"
    },
    {
     "data": {
      "image/png": "[encoded data removed]",
      "text/plain": [
       "<Figure size 432x288 with 1 Axes>"
      ]
     },
     "metadata": {
      "needs_background": "light"
     },
     "output_type": "display_data"
    }
   ],
   "source": [
    "fig=plt.figure()\n",
    "ax=fig.add_subplot(111,projection=\"3d\")\n",
    "ax.scatter(feat[\"X1\"],feat[\"X2\"],feat[\"X3\"],c=y)"
   ]
  },
  {
   "cell_type": "code",
   "execution_count": 34,
   "id": "8380b7ba",
   "metadata": {},
   "outputs": [],
   "source": [
    "from tensorflow.keras.models import Sequential\n",
    "from tensorflow.keras.layers import Dense\n",
    "\n",
    "from tensorflow.keras.optimizers import SGD"
   ]
  },
  {
   "cell_type": "code",
   "execution_count": 35,
   "id": "54dcf68f",
   "metadata": {},
   "outputs": [],
   "source": [
    "encoder=Sequential()\n",
    "encoder.add(Dense(2,activation='relu',input_shape=[3]))"
   ]
  },
  {
   "cell_type": "code",
   "execution_count": 36,
   "id": "d0e9a42b",
   "metadata": {},
   "outputs": [],
   "source": [
    "decoder=Sequential()\n",
    "decoder.add(Dense(3,activation='relu',input_shape=[2]))"
   ]
  },
  {
   "cell_type": "code",
   "execution_count": 37,
   "id": "56e02de7",
   "metadata": {},
   "outputs": [],
   "source": [
    "autoencoder=Sequential([encoder,decoder])"
   ]
  },
  {
   "cell_type": "code",
   "execution_count": 38,
   "id": "4ccd2291",
   "metadata": {},
   "outputs": [
    {
     "name": "stderr",
     "output_type": "stream",
     "text": [
      "D:\\Developpement\\Coding\\anaconda3\\lib\\site-packages\\keras\\optimizer_v2\\gradient_descent.py:102: UserWarning: The `lr` argument is deprecated, use `learning_rate` instead.\n",
      "  super(SGD, self).__init__(name, **kwargs)\n"
     ]
    }
   ],
   "source": [
    "autoencoder.compile(loss=\"mse\",optimizer=SGD(lr=1.5))"
   ]
  },
  {
   "cell_type": "code",
   "execution_count": 39,
   "id": "bd16c2c7",
   "metadata": {},
   "outputs": [],
   "source": [
    "from sklearn.preprocessing import MinMaxScaler"
   ]
  },
  {
   "cell_type": "code",
   "execution_count": 40,
   "id": "4406f96f",
   "metadata": {},
   "outputs": [],
   "source": [
    "scaler=MinMaxScaler()\n",
    "scaled_data=scaler.fit_transform(feat)"
   ]
  },
  {
   "cell_type": "code",
   "execution_count": 41,
   "id": "5def77f2",
   "metadata": {},
   "outputs": [
    {
     "name": "stdout",
     "output_type": "stream",
     "text": [
      "Epoch 1/5\n",
      "10/10 [==============================] - 2s 7ms/step - loss: 0.2091\n",
      "Epoch 2/5\n",
      "10/10 [==============================] - 0s 2ms/step - loss: 0.1727\n",
      "Epoch 3/5\n",
      "10/10 [==============================] - 0s 2ms/step - loss: 0.1527\n",
      "Epoch 4/5\n",
      "10/10 [==============================] - 0s 2ms/step - loss: 0.1418\n",
      "Epoch 5/5\n",
      "10/10 [==============================] - 0s 4ms/step - loss: 0.1394\n"
     ]
    },
    {
     "data": {
      "text/plain": [
       "<keras.callbacks.History at 0x2aa03749b80>"
      ]
     },
     "execution_count": 41,
     "metadata": {},
     "output_type": "execute_result"
    }
   ],
   "source": [
    "autoencoder.fit(scaled_data,scaled_data,epochs=5)"
   ]
  },
  {
   "cell_type": "code",
   "execution_count": 43,
   "id": "d70d4b52",
   "metadata": {},
   "outputs": [],
   "source": [
    "encoded_dim2=encoder.predict(scaled_data)"
   ]
  },
  {
   "cell_type": "code",
   "execution_count": 44,
   "id": "6381a5d3",
   "metadata": {},
   "outputs": [
    {
     "data": {
      "text/plain": [
       "array([[0.        , 0.8657246 ],\n",
       "       [0.        , 0.7535044 ],\n",
       "       [0.        , 0.01652473],\n",
       "       [0.        , 0.73203844],\n",
       "       [0.        , 0.8090721 ],\n",
       "       [0.        , 0.9029158 ],\n",
       "       [0.        , 0.        ],\n",
       "       [0.        , 0.8186082 ],\n",
       "       [0.        , 0.793975  ],\n",
       "       [0.        , 0.80733   ],\n",
       "       [0.        , 0.8280766 ],\n",
       "       [0.        , 0.7519398 ],\n",
       "       [0.        , 0.84497076],\n",
       "       [0.        , 0.7492841 ],\n",
       "       [0.        , 0.7628222 ],\n",
       "       [0.        , 0.        ],\n",
       "       [0.        , 0.        ],\n",
       "       [0.        , 0.82503986],\n",
       "       [0.        , 0.8480705 ],\n",
       "       [0.        , 0.7798023 ],\n",
       "       [0.        , 0.02501856],\n",
       "       [0.        , 0.01302796],\n",
       "       [0.        , 0.        ],\n",
       "       [0.        , 0.        ],\n",
       "       [0.        , 0.8250205 ],\n",
       "       [0.        , 0.        ],\n",
       "       [0.        , 0.        ],\n",
       "       [0.        , 0.        ],\n",
       "       [0.        , 0.01669054],\n",
       "       [0.        , 0.6911039 ],\n",
       "       [0.        , 0.8473106 ],\n",
       "       [0.        , 0.77908736],\n",
       "       [0.        , 0.7599947 ],\n",
       "       [0.        , 0.8091586 ],\n",
       "       [0.        , 0.7750636 ],\n",
       "       [0.        , 0.7332008 ],\n",
       "       [0.        , 0.        ],\n",
       "       [0.        , 0.04042554],\n",
       "       [0.        , 0.01351039],\n",
       "       [0.        , 0.        ],\n",
       "       [0.        , 0.74115026],\n",
       "       [0.        , 0.06589606],\n",
       "       [0.        , 0.        ],\n",
       "       [0.        , 0.71454763],\n",
       "       [0.        , 0.        ],\n",
       "       [0.        , 0.7623881 ],\n",
       "       [0.        , 0.        ],\n",
       "       [0.        , 0.02296402],\n",
       "       [0.        , 0.0150075 ],\n",
       "       [0.        , 0.        ],\n",
       "       [0.        , 0.        ],\n",
       "       [0.        , 0.71630794],\n",
       "       [0.        , 0.02942955],\n",
       "       [0.        , 0.        ],\n",
       "       [0.        , 0.8357487 ],\n",
       "       [0.        , 0.        ],\n",
       "       [0.        , 0.        ],\n",
       "       [0.        , 0.03277357],\n",
       "       [0.        , 0.        ],\n",
       "       [0.        , 0.784788  ],\n",
       "       [0.        , 0.7759237 ],\n",
       "       [0.        , 0.8066096 ],\n",
       "       [0.        , 0.7579167 ],\n",
       "       [0.        , 0.79385364],\n",
       "       [0.        , 0.81684744],\n",
       "       [0.        , 0.00540449],\n",
       "       [0.        , 0.83512026],\n",
       "       [0.        , 0.        ],\n",
       "       [0.        , 0.71710694],\n",
       "       [0.        , 0.7814632 ],\n",
       "       [0.        , 0.7436738 ],\n",
       "       [0.        , 0.        ],\n",
       "       [0.        , 0.7808077 ],\n",
       "       [0.        , 0.8148472 ],\n",
       "       [0.        , 0.7814832 ],\n",
       "       [0.        , 0.7244706 ],\n",
       "       [0.        , 0.0024701 ],\n",
       "       [0.        , 0.87479097],\n",
       "       [0.        , 0.        ],\n",
       "       [0.        , 0.00985706],\n",
       "       [0.        , 0.6786198 ],\n",
       "       [0.        , 0.        ],\n",
       "       [0.        , 0.7368302 ],\n",
       "       [0.        , 0.76625746],\n",
       "       [0.        , 0.02226104],\n",
       "       [0.        , 0.        ],\n",
       "       [0.        , 0.        ],\n",
       "       [0.        , 0.85958827],\n",
       "       [0.        , 0.02166552],\n",
       "       [0.        , 0.772686  ],\n",
       "       [0.        , 0.        ],\n",
       "       [0.        , 0.7826857 ],\n",
       "       [0.        , 0.8826946 ],\n",
       "       [0.        , 0.        ],\n",
       "       [0.        , 0.7173358 ],\n",
       "       [0.        , 0.        ],\n",
       "       [0.        , 0.72816867],\n",
       "       [0.        , 0.        ],\n",
       "       [0.        , 0.01504109],\n",
       "       [0.        , 0.        ],\n",
       "       [0.        , 0.        ],\n",
       "       [0.        , 0.6428576 ],\n",
       "       [0.        , 0.8228858 ],\n",
       "       [0.        , 0.        ],\n",
       "       [0.        , 0.        ],\n",
       "       [0.        , 0.03351631],\n",
       "       [0.        , 0.7439348 ],\n",
       "       [0.        , 0.82919574],\n",
       "       [0.        , 0.        ],\n",
       "       [0.        , 0.81502694],\n",
       "       [0.        , 0.8046539 ],\n",
       "       [0.        , 0.75435734],\n",
       "       [0.        , 0.7461416 ],\n",
       "       [0.        , 0.        ],\n",
       "       [0.        , 0.        ],\n",
       "       [0.        , 0.        ],\n",
       "       [0.        , 0.00240805],\n",
       "       [0.        , 0.        ],\n",
       "       [0.        , 0.00263866],\n",
       "       [0.        , 0.        ],\n",
       "       [0.        , 0.        ],\n",
       "       [0.        , 0.64108574],\n",
       "       [0.        , 0.        ],\n",
       "       [0.        , 0.04273154],\n",
       "       [0.        , 0.7563031 ],\n",
       "       [0.        , 0.03838882],\n",
       "       [0.        , 0.7602793 ],\n",
       "       [0.        , 0.80489796],\n",
       "       [0.        , 0.00194257],\n",
       "       [0.        , 0.11269911],\n",
       "       [0.        , 0.        ],\n",
       "       [0.        , 0.7754173 ],\n",
       "       [0.        , 0.        ],\n",
       "       [0.        , 0.        ],\n",
       "       [0.        , 0.7546016 ],\n",
       "       [0.        , 0.71824193],\n",
       "       [0.        , 0.        ],\n",
       "       [0.        , 0.        ],\n",
       "       [0.        , 0.        ],\n",
       "       [0.        , 0.86058694],\n",
       "       [0.        , 0.00944801],\n",
       "       [0.        , 0.7782922 ],\n",
       "       [0.        , 0.742009  ],\n",
       "       [0.        , 0.        ],\n",
       "       [0.        , 0.7469825 ],\n",
       "       [0.        , 0.        ],\n",
       "       [0.        , 0.        ],\n",
       "       [0.        , 0.80238545],\n",
       "       [0.        , 0.01048598],\n",
       "       [0.        , 0.8346265 ],\n",
       "       [0.        , 0.        ],\n",
       "       [0.        , 0.        ],\n",
       "       [0.        , 0.7964567 ],\n",
       "       [0.        , 0.06652158],\n",
       "       [0.        , 0.8669463 ],\n",
       "       [0.        , 0.7732358 ],\n",
       "       [0.        , 0.        ],\n",
       "       [0.        , 0.        ],\n",
       "       [0.        , 0.        ],\n",
       "       [0.        , 0.80244374],\n",
       "       [0.        , 0.        ],\n",
       "       [0.        , 0.        ],\n",
       "       [0.        , 0.73024106],\n",
       "       [0.        , 0.7233603 ],\n",
       "       [0.        , 0.7890285 ],\n",
       "       [0.        , 0.        ],\n",
       "       [0.        , 0.        ],\n",
       "       [0.        , 0.90120834],\n",
       "       [0.        , 0.8314693 ],\n",
       "       [0.        , 0.8213157 ],\n",
       "       [0.        , 0.7029036 ],\n",
       "       [0.        , 0.78697234],\n",
       "       [0.        , 0.7456458 ],\n",
       "       [0.        , 0.        ],\n",
       "       [0.        , 0.        ],\n",
       "       [0.        , 0.        ],\n",
       "       [0.        , 0.        ],\n",
       "       [0.        , 0.        ],\n",
       "       [0.        , 0.7532262 ],\n",
       "       [0.        , 0.        ],\n",
       "       [0.        , 0.74394906],\n",
       "       [0.        , 0.7888369 ],\n",
       "       [0.        , 0.        ],\n",
       "       [0.        , 0.7476423 ],\n",
       "       [0.        , 0.        ],\n",
       "       [0.        , 0.8148298 ],\n",
       "       [0.        , 0.        ],\n",
       "       [0.        , 0.05202761],\n",
       "       [0.        , 0.7959665 ],\n",
       "       [0.        , 0.        ],\n",
       "       [0.        , 0.6929043 ],\n",
       "       [0.        , 0.        ],\n",
       "       [0.        , 0.05500925],\n",
       "       [0.        , 0.01865417],\n",
       "       [0.        , 0.        ],\n",
       "       [0.        , 0.7564299 ],\n",
       "       [0.        , 0.7704922 ],\n",
       "       [0.        , 0.7648962 ],\n",
       "       [0.        , 0.        ],\n",
       "       [0.        , 0.7413053 ],\n",
       "       [0.        , 0.8064783 ],\n",
       "       [0.        , 0.764334  ],\n",
       "       [0.        , 0.02539673],\n",
       "       [0.        , 0.8288069 ],\n",
       "       [0.        , 0.02168377],\n",
       "       [0.        , 0.        ],\n",
       "       [0.        , 0.        ],\n",
       "       [0.        , 0.04257032],\n",
       "       [0.        , 0.03395979],\n",
       "       [0.        , 0.8084979 ],\n",
       "       [0.        , 0.        ],\n",
       "       [0.        , 0.06724384],\n",
       "       [0.        , 0.8198776 ],\n",
       "       [0.        , 0.7670885 ],\n",
       "       [0.        , 0.7213631 ],\n",
       "       [0.        , 0.8464466 ],\n",
       "       [0.        , 0.02504282],\n",
       "       [0.        , 0.7708985 ],\n",
       "       [0.        , 0.81065947],\n",
       "       [0.        , 0.79340684],\n",
       "       [0.        , 0.        ],\n",
       "       [0.        , 0.        ],\n",
       "       [0.        , 0.836528  ],\n",
       "       [0.        , 0.72599435],\n",
       "       [0.        , 0.        ],\n",
       "       [0.        , 0.77212   ],\n",
       "       [0.        , 0.7383307 ],\n",
       "       [0.        , 0.        ],\n",
       "       [0.        , 0.        ],\n",
       "       [0.        , 0.        ],\n",
       "       [0.        , 0.        ],\n",
       "       [0.        , 0.        ],\n",
       "       [0.        , 0.        ],\n",
       "       [0.        , 0.8396444 ],\n",
       "       [0.        , 0.8342728 ],\n",
       "       [0.        , 0.7667627 ],\n",
       "       [0.        , 0.7777669 ],\n",
       "       [0.        , 0.        ],\n",
       "       [0.        , 0.78459066],\n",
       "       [0.        , 0.        ],\n",
       "       [0.        , 0.83059424],\n",
       "       [0.        , 0.89992523],\n",
       "       [0.        , 0.04941237],\n",
       "       [0.        , 0.8281806 ],\n",
       "       [0.        , 0.01926482],\n",
       "       [0.        , 0.        ],\n",
       "       [0.        , 0.7128231 ],\n",
       "       [0.        , 0.        ],\n",
       "       [0.        , 0.07133033],\n",
       "       [0.        , 0.        ],\n",
       "       [0.        , 0.75236017],\n",
       "       [0.        , 0.8305562 ],\n",
       "       [0.        , 0.7930752 ],\n",
       "       [0.        , 0.01017912],\n",
       "       [0.        , 0.        ],\n",
       "       [0.        , 0.8519118 ],\n",
       "       [0.        , 0.        ],\n",
       "       [0.        , 0.        ],\n",
       "       [0.        , 0.        ],\n",
       "       [0.        , 0.75950426],\n",
       "       [0.        , 0.787189  ],\n",
       "       [0.        , 0.7421263 ],\n",
       "       [0.        , 0.        ],\n",
       "       [0.        , 0.83271646],\n",
       "       [0.        , 0.01053988],\n",
       "       [0.        , 0.77902144],\n",
       "       [0.        , 0.        ],\n",
       "       [0.        , 0.77270544],\n",
       "       [0.        , 0.        ],\n",
       "       [0.        , 0.0459679 ],\n",
       "       [0.        , 0.71858364],\n",
       "       [0.        , 0.71816117],\n",
       "       [0.        , 0.8260119 ],\n",
       "       [0.        , 0.        ],\n",
       "       [0.        , 0.90028167],\n",
       "       [0.        , 0.7904019 ],\n",
       "       [0.        , 0.        ],\n",
       "       [0.        , 0.01566432],\n",
       "       [0.        , 0.8234485 ],\n",
       "       [0.        , 0.6945832 ],\n",
       "       [0.        , 0.        ],\n",
       "       [0.        , 0.        ],\n",
       "       [0.        , 0.77212423],\n",
       "       [0.        , 0.8021994 ],\n",
       "       [0.        , 0.        ],\n",
       "       [0.        , 0.8577508 ],\n",
       "       [0.        , 0.7899403 ],\n",
       "       [0.        , 0.8795985 ],\n",
       "       [0.        , 0.8125027 ],\n",
       "       [0.        , 0.        ],\n",
       "       [0.        , 0.7186699 ],\n",
       "       [0.        , 0.79369766],\n",
       "       [0.        , 0.        ],\n",
       "       [0.        , 0.8114705 ],\n",
       "       [0.        , 0.881056  ],\n",
       "       [0.        , 0.03966903],\n",
       "       [0.        , 0.01053845],\n",
       "       [0.        , 0.        ],\n",
       "       [0.        , 0.8360788 ],\n",
       "       [0.        , 0.        ]], dtype=float32)"
      ]
     },
     "execution_count": 44,
     "metadata": {},
     "output_type": "execute_result"
    }
   ],
   "source": [
    "encoded_dim2"
   ]
  },
  {
   "cell_type": "code",
   "execution_count": 45,
   "id": "45e30702",
   "metadata": {},
   "outputs": [
    {
     "data": {
      "text/plain": [
       "(300, 2)"
      ]
     },
     "execution_count": 45,
     "metadata": {},
     "output_type": "execute_result"
    }
   ],
   "source": [
    "encoded_dim2.shape"
   ]
  },
  {
   "cell_type": "markdown",
   "id": "7d4b1e95",
   "metadata": {},
   "source": [
    "### Remarque\n",
    "On a a reduit le dataset de 3 dimensions a 2 dimensions"
   ]
  },
  {
   "cell_type": "code",
   "execution_count": 47,
   "id": "4e45d449",
   "metadata": {},
   "outputs": [
    {
     "data": {
      "text/plain": [
       "<matplotlib.collections.PathCollection at 0x2aa03a3c9a0>"
      ]
     },
     "execution_count": 47,
     "metadata": {},
     "output_type": "execute_result"
    },
    {
     "data": {
      "image/png": "[encoded data removed]",
      "text/plain": [
       "<Figure size 432x288 with 1 Axes>"
      ]
     },
     "metadata": {
      "needs_background": "light"
     },
     "output_type": "display_data"
    }
   ],
   "source": [
    "plt.scatter(encoded_dim2[:,0],encoded_dim2[:,1],c=y)"
   ]
  },
  {
   "cell_type": "code",
   "execution_count": null,
   "id": "1d70df67",
   "metadata": {},
   "outputs": [],
   "source": []
  }
 ],
 "metadata": {
  "kernelspec": {
   "display_name": "Python 3 (ipykernel)",
   "language": "python",
   "name": "python3"
  },
  "language_info": {
   "codemirror_mode": {
    "name": "ipython",
    "version": 3
   },
   "file_extension": ".py",
   "mimetype": "text/x-python",
   "name": "python",
   "nbconvert_exporter": "python",
   "pygments_lexer": "ipython3",
   "version": "3.9.7"
  }
 },
 "nbformat": 4,
 "nbformat_minor": 5
}
